{
 "cells": [
  {
   "cell_type": "code",
   "execution_count": 8,
   "id": "940a9df3-7290-4a00-a603-8ae64af3cbe5",
   "metadata": {},
   "outputs": [
    {
     "name": "stdout",
     "output_type": "stream",
     "text": [
      "4 is an even number\n",
      "11 is an odd number\n",
      "15 is an odd number\n",
      "7 is an odd number\n",
      "20 is an even number\n",
      "3 is an odd number\n"
     ]
    }
   ],
   "source": [
    "# Defining a list of numbers\n",
    "numbers_list = [4, 11, 15, 7, 20, 3]\n",
    "\n",
    "# Task 1- If Statement: Check if each number is even or odd\n",
    "for each_number in numbers_list:\n",
    "    if each_number % 2 == 0: # Checking if divisible by 2\n",
    "        print(f\"{each_number} is an even number\")\n",
    "    else:\n",
    "        print(f\"{each_number} is an odd number\")"
   ]
  },
  {
   "cell_type": "code",
   "execution_count": 9,
   "id": "0d9e40b5-13f7-4dbc-a3a3-68a13fcbb9ef",
   "metadata": {},
   "outputs": [
    {
     "name": "stdout",
     "output_type": "stream",
     "text": [
      "11\n",
      "15\n",
      "20\n"
     ]
    }
   ],
   "source": [
    "# Task 2- Loop: Print only numbers > 10\n",
    "numbers_list = [4, 11, 15, 7, 20, 3]\n",
    "for each_number in numbers_list:\n",
    "    if each_number > 10:\n",
    "        print(each_number)"
   ]
  },
  {
   "cell_type": "code",
   "execution_count": 10,
   "id": "87502cbc-61b9-4f39-a80e-36ae6005beb8",
   "metadata": {},
   "outputs": [
    {
     "name": "stdout",
     "output_type": "stream",
     "text": [
      "Hello, Anthony! Welcome to Python basics.\n"
     ]
    }
   ],
   "source": [
    "# Task 3- Function: Greeting function\n",
    "def greet(name):\n",
    "    print(f\"Hello, {name}! Welcome to Python basics.\")\n",
    "\n",
    "greet(\"Anthony\")"
   ]
  },
  {
   "cell_type": "code",
   "execution_count": 17,
   "id": "50c438f1-c875-40ba-98db-17f2d7a10541",
   "metadata": {},
   "outputs": [
    {
     "name": "stdout",
     "output_type": "stream",
     "text": [
      "{4: 16, 11: 121, 15: 225, 7: 49, 20: 400, 3: 9}\n"
     ]
    }
   ],
   "source": [
    "# Task 4- Function: Squares dictionary\n",
    "def squares_dict(numbers_list):\n",
    "    return {each_number: each_number**2 for each_number in numbers_list}\n",
    "\n",
    "result = squares_dict([4, 11, 15, 7, 20, 3])\n",
    "print(result)"
   ]
  },
  {
   "cell_type": "code",
   "execution_count": null,
   "id": "1ce73f3e-fe43-4ba9-a60c-a8e59948d44c",
   "metadata": {},
   "outputs": [],
   "source": [
    "# Task 5- Create a function that can read a file from directory 'A' that accepts 3 parameters [source (output), destination (input), file name] and write same file in directory 'B'"
   ]
  },
  {
   "cell_type": "code",
   "execution_count": 181,
   "id": "3730d6d5-a68c-4df1-befb-078098fac505",
   "metadata": {},
   "outputs": [
    {
     "name": "stdout",
     "output_type": "stream",
     "text": [
      "File 'python.txt' copied successfully to /home/jovyan/directory_B\n"
     ]
    }
   ],
   "source": [
    "import os\n",
    "import shutil\n",
    "\n",
    "def ensure_and_copy_file(source, destination, filename, content=\"Sample text content\"):\n",
    "    \"\"\"\n",
    "    Ensures a file exists in the source directory, and copies it to the destination directory.\n",
    "    \n",
    "    Parameters:\n",
    "    source (str): Path to source directory\n",
    "    destination (str): Path to destination directory\n",
    "    filename (str): Name of the file (with extension)\n",
    "    content (str): Optional content to write if the file does not exist\n",
    "    \"\"\"\n",
    "    # Ensure source and destination directories exist\n",
    "    os.makedirs(source, exist_ok=True) # creates the source folder if it doesn’t exist.\n",
    "    os.makedirs(destination, exist_ok=True) # creates the destination folder if it doesn’t exist.\n",
    "\n",
    "    # Full file paths\n",
    "    source_file = os.path.join(source, filename) \n",
    "    destination_file = os.path.join(destination, filename)\n",
    "    \n",
    "    # Create the file in source if it doesn't exist\n",
    "    if not os.path.exists(source_file):\n",
    "        with open(source_file, 'w') as file: # going into the source file to overright\n",
    "            file.write(content)\n",
    "        print(f\"File '{filename}' created in {source}\")\n",
    "\n",
    "    # Copy the file to the destination\n",
    "    shutil.copy(source_file, destination_file) # handle the file copying.\n",
    "    print(f\"File '{filename}' copied successfully to {destination}\")\n",
    "\n",
    "# Application\n",
    "ensure_and_copy_file(\n",
    "    '/home/jovyan/directory_A',\n",
    "    '/home/jovyan/directory_B',\n",
    "    'python.txt',\n",
    "    content=\"Hello, this is the python.txt file.\"\n",
    ")"
   ]
  },
  {
   "cell_type": "code",
   "execution_count": null,
   "id": "88f2d8d3-2b46-4891-add2-0078bc16d669",
   "metadata": {},
   "outputs": [],
   "source": []
  }
 ],
 "metadata": {
  "kernelspec": {
   "display_name": "Python 3 (ipykernel)",
   "language": "python",
   "name": "python3"
  },
  "language_info": {
   "codemirror_mode": {
    "name": "ipython",
    "version": 3
   },
   "file_extension": ".py",
   "mimetype": "text/x-python",
   "name": "python",
   "nbconvert_exporter": "python",
   "pygments_lexer": "ipython3",
   "version": "3.11.6"
  }
 },
 "nbformat": 4,
 "nbformat_minor": 5
}
