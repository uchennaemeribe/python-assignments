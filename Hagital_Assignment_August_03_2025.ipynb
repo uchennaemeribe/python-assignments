{
 "cells": [
  {
   "cell_type": "code",
   "execution_count": null,
   "id": "53587f4e-30e1-4952-817f-23a57b59ce59",
   "metadata": {},
   "outputs": [],
   "source": [
    "# Definition of tuple and set in Python.\n",
    "# A tuple is an ordered, immutable collection of elements.\n",
    "# A set is an unordered, mutable collection of unique elements."
   ]
  },
  {
   "cell_type": "code",
   "execution_count": 43,
   "id": "afe60f5c-ae35-41ea-a111-a79984240500",
   "metadata": {},
   "outputs": [],
   "source": [
    "# Task 1 on Python Strings"
   ]
  },
  {
   "cell_type": "code",
   "execution_count": 44,
   "id": "bf1459b4-ab82-42c2-b9a1-c2358f86adeb",
   "metadata": {},
   "outputs": [],
   "source": [
    "# 1. Define the following string\n",
    "txt = \"Hello\"\n",
    "long_string = \"\"\"This is a\n",
    "multi-line\n",
    "string example.\"\"\""
   ]
  },
  {
   "cell_type": "code",
   "execution_count": 45,
   "id": "e91d62e5-a4d8-4312-ab16-cc8dcb077c66",
   "metadata": {},
   "outputs": [
    {
     "data": {
      "text/plain": [
       "str"
      ]
     },
     "execution_count": 45,
     "metadata": {},
     "output_type": "execute_result"
    }
   ],
   "source": [
    "type(txt)"
   ]
  },
  {
   "cell_type": "code",
   "execution_count": 46,
   "id": "d0d34415-2399-4cda-9c2c-50330e10e033",
   "metadata": {},
   "outputs": [
    {
     "data": {
      "text/plain": [
       "str"
      ]
     },
     "execution_count": 46,
     "metadata": {},
     "output_type": "execute_result"
    }
   ],
   "source": [
    "type(long_string)"
   ]
  },
  {
   "cell_type": "code",
   "execution_count": 47,
   "id": "681b756d-76f2-4ddb-8fe4-766e405254c3",
   "metadata": {},
   "outputs": [
    {
     "name": "stdout",
     "output_type": "stream",
     "text": [
      "Character at index 1 in txt: e\n"
     ]
    }
   ],
   "source": [
    "# 2. Performing Indexing\n",
    "print(\"Character at index 1 in txt:\", txt[1])"
   ]
  },
  {
   "cell_type": "code",
   "execution_count": 48,
   "id": "09de86ba-55a3-4ab2-9148-6084f17295e7",
   "metadata": {},
   "outputs": [
    {
     "name": "stdout",
     "output_type": "stream",
     "text": [
      "Character at index 0 in txt: H\n"
     ]
    }
   ],
   "source": [
    "print(\"Character at index 0 in txt:\", txt[0])"
   ]
  },
  {
   "cell_type": "code",
   "execution_count": 49,
   "id": "585d0306-460a-4434-ae12-e8ac0c7f7bc5",
   "metadata": {},
   "outputs": [
    {
     "name": "stdout",
     "output_type": "stream",
     "text": [
      "Character at index 3 in txt: l\n"
     ]
    }
   ],
   "source": [
    "print(\"Character at index 3 in txt:\", txt[3])"
   ]
  },
  {
   "cell_type": "code",
   "execution_count": 50,
   "id": "e7743746-63b2-42fd-b2ad-b31c547dc79c",
   "metadata": {},
   "outputs": [
    {
     "name": "stdout",
     "output_type": "stream",
     "text": [
      "Character at index 4 in txt: o\n"
     ]
    }
   ],
   "source": [
    "print(\"Character at index 4 in txt:\", txt[4])"
   ]
  },
  {
   "cell_type": "code",
   "execution_count": 51,
   "id": "d0da5a58-b237-4103-b26c-95b0a0b55680",
   "metadata": {},
   "outputs": [
    {
     "name": "stdout",
     "output_type": "stream",
     "text": [
      "Characters between indexes 1 to 4 in txt: ell\n"
     ]
    }
   ],
   "source": [
    "# 3. Performing Slicing\n",
    "print(\"Characters between indexes 1 to 4 in txt:\", txt[1:4])"
   ]
  },
  {
   "cell_type": "code",
   "execution_count": 52,
   "id": "79b7f4d1-8954-48b6-a3ef-f9590382c5b4",
   "metadata": {},
   "outputs": [],
   "source": [
    "# 4. Using common string methods"
   ]
  },
  {
   "cell_type": "code",
   "execution_count": 53,
   "id": "62fd29ea-fe10-4031-b859-580b2fdb9ce7",
   "metadata": {},
   "outputs": [
    {
     "name": "stdout",
     "output_type": "stream",
     "text": [
      "Stripped long_string:\n",
      " This is a\n",
      "multi-line\n",
      "string example.\n"
     ]
    }
   ],
   "source": [
    "# 4a. Remove whitespace (if any) by stripping\n",
    "print(\"Stripped long_string:\\n\", long_string.strip())"
   ]
  },
  {
   "cell_type": "code",
   "execution_count": 54,
   "id": "de97462f-2e25-46ca-8e4e-2d6694c14c98",
   "metadata": {},
   "outputs": [
    {
     "name": "stdout",
     "output_type": "stream",
     "text": [
      "Hello, World!\n"
     ]
    }
   ],
   "source": [
    "# 4ai. Further examples using stripping to remove whitespace\n",
    "text = \"  Hello, World!  \"\n",
    "print(text.strip())"
   ]
  },
  {
   "cell_type": "code",
   "execution_count": 55,
   "id": "55ce6c4c-f9ff-4c6e-adf2-59f2998dd7a9",
   "metadata": {},
   "outputs": [
    {
     "name": "stdout",
     "output_type": "stream",
     "text": [
      "Hello, World!\n"
     ]
    }
   ],
   "source": [
    "# 4aii. Further examples using stripping to remove specific characters\n",
    "text1 = \"##Hello, World!###\"\n",
    "print(text1.strip('#'))"
   ]
  },
  {
   "cell_type": "code",
   "execution_count": 56,
   "id": "0453d3b5-5443-4674-b2c5-4ac14a88ae63",
   "metadata": {},
   "outputs": [
    {
     "name": "stdout",
     "output_type": "stream",
     "text": [
      "Lowercase txt: hello\n"
     ]
    }
   ],
   "source": [
    "# 4b. Convert to lowercase\n",
    "print(\"Lowercase txt:\", txt.lower())"
   ]
  },
  {
   "cell_type": "code",
   "execution_count": 57,
   "id": "088aa0b4-8dff-403e-afb1-19387b9ad24a",
   "metadata": {},
   "outputs": [
    {
     "name": "stdout",
     "output_type": "stream",
     "text": [
      "Uppercase txt: HELLO\n"
     ]
    }
   ],
   "source": [
    "# 4c. Convert to uppercase\n",
    "print(\"Uppercase txt:\", txt.upper())"
   ]
  },
  {
   "cell_type": "code",
   "execution_count": 58,
   "id": "62217bf7-895f-4f80-8d84-3b13555b3f69",
   "metadata": {},
   "outputs": [
    {
     "name": "stdout",
     "output_type": "stream",
     "text": [
      "Replace 'l' with 'x' in txt: Hexxo\n"
     ]
    }
   ],
   "source": [
    "# 4d. Replace part of the string\n",
    "print(\"Replace 'l' with 'x' in txt:\", txt.replace(\"l\", \"x\"))"
   ]
  },
  {
   "cell_type": "code",
   "execution_count": 59,
   "id": "3a73af34-385a-4a51-b67b-2236e29860ab",
   "metadata": {},
   "outputs": [
    {
     "name": "stdout",
     "output_type": "stream",
     "text": [
      "Splitting txt into characters: ['Hello']\n"
     ]
    }
   ],
   "source": [
    "# 4e. Split a string into a list\n",
    "print(\"Splitting txt into characters:\", txt.split())"
   ]
  },
  {
   "cell_type": "code",
   "execution_count": 60,
   "id": "a85ef466-343b-4493-a2d3-718981d5800b",
   "metadata": {},
   "outputs": [
    {
     "name": "stdout",
     "output_type": "stream",
     "text": [
      "['Hello', 'world', 'Python']\n"
     ]
    }
   ],
   "source": [
    "# 4ei. Further examples, splitting by space\n",
    "text = \"Hello world Python\"\n",
    "result = text.split()\n",
    "print(result)"
   ]
  },
  {
   "cell_type": "code",
   "execution_count": 61,
   "id": "9f91c79e-b1bb-4b1a-9d2b-1f4947b6fc29",
   "metadata": {},
   "outputs": [
    {
     "name": "stdout",
     "output_type": "stream",
     "text": [
      "['apple', 'banana', 'orange']\n"
     ]
    }
   ],
   "source": [
    "# 4eii. Further examples, splitting by comma\n",
    "data = \"apple,banana,orange\"\n",
    "result = data.split(\",\")\n",
    "print(result)"
   ]
  },
  {
   "cell_type": "code",
   "execution_count": 62,
   "id": "d8fb6c0a-c4f9-44cc-ae0e-95901ec2533b",
   "metadata": {},
   "outputs": [
    {
     "name": "stdout",
     "output_type": "stream",
     "text": [
      "['line1', 'line2', 'line3']\n"
     ]
    }
   ],
   "source": [
    "# 4eiii. Further examples, splitting by newline \\n\n",
    "multiline = \"line1\\nline2\\nline3\"\n",
    "result = multiline.split(\"\\n\")\n",
    "print(result)"
   ]
  },
  {
   "cell_type": "code",
   "execution_count": 63,
   "id": "4532b061-89cf-4bf9-acb4-8abedcffed92",
   "metadata": {},
   "outputs": [],
   "source": [
    "# Task 2 on the breakdown and demonstration of list operations in Python"
   ]
  },
  {
   "cell_type": "code",
   "execution_count": 90,
   "id": "3af7d59e-58d1-4ad1-ac9a-bdac338734e4",
   "metadata": {},
   "outputs": [],
   "source": [
    "numbers = [3, 1, 2, 4]\n",
    "fruits = [\"apple\", \"banana\", \"cherry\"] # where apple is at 0, banana is at 1, and cherry is at 2"
   ]
  },
  {
   "cell_type": "code",
   "execution_count": 91,
   "id": "68879dd8-695b-485c-bbe5-6f0888e5aada",
   "metadata": {},
   "outputs": [
    {
     "name": "stdout",
     "output_type": "stream",
     "text": [
      "[3, 1, 2, 4, 5]\n"
     ]
    }
   ],
   "source": [
    "# 1. Append – adds to the end\n",
    "numbers.append(5)\n",
    "print(numbers)"
   ]
  },
  {
   "cell_type": "code",
   "execution_count": 92,
   "id": "3ce594b4-d648-4e57-a8bb-15c1025f5a07",
   "metadata": {},
   "outputs": [
    {
     "name": "stdout",
     "output_type": "stream",
     "text": [
      "['apple', 'orange', 'banana', 'cherry']\n"
     ]
    }
   ],
   "source": [
    "# 2. Insert – inserting orange in between apple and banana\n",
    "fruits.insert(1, \"orange\") # where \"1\" symbolizes the location and \"orange\" symbolizes the index\n",
    "print(fruits)"
   ]
  },
  {
   "cell_type": "code",
   "execution_count": 93,
   "id": "c6c4b04b-1587-442c-8e08-a4205b80f600",
   "metadata": {},
   "outputs": [
    {
     "name": "stdout",
     "output_type": "stream",
     "text": [
      "['apple', 'orange', 'cherry']\n"
     ]
    }
   ],
   "source": [
    "# 3. Remove – remove by value (i.e. removing banana)\n",
    "fruits.remove(\"banana\")\n",
    "print(fruits)"
   ]
  },
  {
   "cell_type": "code",
   "execution_count": 94,
   "id": "2c10d9a9-d0cd-47e3-9f0b-138fbc8071a1",
   "metadata": {},
   "outputs": [
    {
     "name": "stdout",
     "output_type": "stream",
     "text": [
      "cherry\n",
      "['apple', 'orange']\n"
     ]
    }
   ],
   "source": [
    "# 4. Pop – remove last item (or by index)\n",
    "popped_item = fruits.pop()\n",
    "print(popped_item)\n",
    "print(fruits)"
   ]
  },
  {
   "cell_type": "code",
   "execution_count": 95,
   "id": "fc69df85-69ec-4a32-b99e-8a7f441c47c4",
   "metadata": {},
   "outputs": [
    {
     "name": "stdout",
     "output_type": "stream",
     "text": [
      "[]\n"
     ]
    }
   ],
   "source": [
    "# 5. Clear – remove all elements\n",
    "temp_list = [10, 20, 30]\n",
    "temp_list.clear()\n",
    "print(temp_list)"
   ]
  },
  {
   "cell_type": "code",
   "execution_count": 96,
   "id": "4addf4f6-9961-4698-9aa2-e4f804985445",
   "metadata": {},
   "outputs": [
    {
     "name": "stdout",
     "output_type": "stream",
     "text": [
      "[1, 2, 3, 4, 5]\n"
     ]
    }
   ],
   "source": [
    "# 6. Sort – sort list (ascending by default)\n",
    "numbers.sort()\n",
    "print(numbers)"
   ]
  },
  {
   "cell_type": "code",
   "execution_count": 97,
   "id": "5c1d2681-8cd5-4454-b228-0a917e5cac9a",
   "metadata": {},
   "outputs": [
    {
     "name": "stdout",
     "output_type": "stream",
     "text": [
      "[5, 4, 3, 2, 1]\n"
     ]
    }
   ],
   "source": [
    "# 7. Reverse – reverse the list\n",
    "numbers.reverse()\n",
    "print(numbers)"
   ]
  },
  {
   "cell_type": "code",
   "execution_count": 98,
   "id": "0e1cf3f0-86e0-4db2-a0d1-328aaa97b08a",
   "metadata": {},
   "outputs": [
    {
     "name": "stdout",
     "output_type": "stream",
     "text": [
      "apple\n"
     ]
    }
   ],
   "source": [
    "# 8a.  Indexing\n",
    "print(fruits[0])"
   ]
  },
  {
   "cell_type": "code",
   "execution_count": 105,
   "id": "bed4b6f0-be00-4495-b61c-e8cac66dcf72",
   "metadata": {},
   "outputs": [
    {
     "name": "stdout",
     "output_type": "stream",
     "text": [
      "orange\n"
     ]
    }
   ],
   "source": [
    "# 8b.  Indexing\n",
    "print(fruits[1])"
   ]
  },
  {
   "cell_type": "code",
   "execution_count": 109,
   "id": "62288d3b-26d9-4136-b96b-ca778b291575",
   "metadata": {},
   "outputs": [
    {
     "name": "stdout",
     "output_type": "stream",
     "text": [
      "[4, 3, 2]\n"
     ]
    }
   ],
   "source": [
    "# 9.  Slicing\n",
    "print(numbers[1:4])"
   ]
  },
  {
   "cell_type": "code",
   "execution_count": 110,
   "id": "f56c09b7-7289-4cd2-a973-44c2210f3bb1",
   "metadata": {},
   "outputs": [
    {
     "name": "stdout",
     "output_type": "stream",
     "text": [
      "2\n",
      "5\n"
     ]
    }
   ],
   "source": [
    "# 10.  Length of list using the len function\n",
    "print(len(fruits))\n",
    "print(len(numbers))"
   ]
  },
  {
   "cell_type": "code",
   "execution_count": 111,
   "id": "b5a68b00-0052-423e-b27b-8f3f59f79817",
   "metadata": {},
   "outputs": [
    {
     "name": "stdout",
     "output_type": "stream",
     "text": [
      "apple\n",
      "orange\n"
     ]
    }
   ],
   "source": [
    "# 11. Loop through list\n",
    "for fruit in fruits:\n",
    "    print(fruit)"
   ]
  },
  {
   "cell_type": "code",
   "execution_count": 113,
   "id": "626735f6-97d9-44ee-afe8-8036f55b37d0",
   "metadata": {},
   "outputs": [],
   "source": [
    "# Task 3 on comparison and exploration of Lists, Tuples, Sets, and Dictionaries, including their differences, use cases, and their relevance in Data Engineering."
   ]
  },
  {
   "cell_type": "code",
   "execution_count": 115,
   "id": "f110899d-d8d5-4f0d-a83e-65a565a4adc5",
   "metadata": {},
   "outputs": [
    {
     "name": "stdout",
     "output_type": "stream",
     "text": [
      "['apple', 'orange', 'cherry']\n"
     ]
    }
   ],
   "source": [
    "# 1. Lists – Ordered, Mutable, Allows Duplicates\n",
    "fruits = ['apple', 'banana', 'cherry']\n",
    "fruits[1] = 'orange'  # Modifiable\n",
    "print(fruits)\n",
    "# Use Cases:\n",
    "# a. Storing ordered sequences (e.g. rows in a dataset)\n",
    "# b. Iterating and modifying data during ETL\n",
    "# c. Dynamic collections (e.g. temporary records)\n",
    "# d. In Data Engineering:\n",
    "# e. Collecting rows from SQL queries\n",
    "# f. Appending logs or stream records\n",
    "# In Data Engineering:\n",
    "# a. Collecting rows from SQL queries\n",
    "# b. Appending logs or stream records"
   ]
  },
  {
   "cell_type": "code",
   "execution_count": 122,
   "id": "e90a9a39-054b-4955-8b89-5e52fb98e49f",
   "metadata": {
    "scrolled": true
   },
   "outputs": [
    {
     "ename": "TypeError",
     "evalue": "'tuple' object does not support item assignment",
     "output_type": "error",
     "traceback": [
      "\u001b[0;31m---------------------------------------------------------------------------\u001b[0m",
      "\u001b[0;31mTypeError\u001b[0m                                 Traceback (most recent call last)",
      "Cell \u001b[0;32mIn[122], line 3\u001b[0m\n\u001b[1;32m      1\u001b[0m \u001b[38;5;66;03m# 2. Tuples – Ordered, Immutable, Allow Duplicates\u001b[39;00m\n\u001b[1;32m      2\u001b[0m dimensions \u001b[38;5;241m=\u001b[39m (\u001b[38;5;241m1920\u001b[39m, \u001b[38;5;241m1080\u001b[39m)\n\u001b[0;32m----> 3\u001b[0m \u001b[43mdimensions\u001b[49m\u001b[43m[\u001b[49m\u001b[38;5;241;43m0\u001b[39;49m\u001b[43m]\u001b[49m \u001b[38;5;241m=\u001b[39m \u001b[38;5;241m1280\u001b[39m\n\u001b[1;32m      4\u001b[0m \u001b[38;5;66;03m# Use Cases:\u001b[39;00m\n\u001b[1;32m      5\u001b[0m \u001b[38;5;66;03m# a. Fixed data that shouldn’t change (coordinates, config values)\u001b[39;00m\n\u001b[1;32m      6\u001b[0m \u001b[38;5;66;03m# b. Used as keys in dictionaries\u001b[39;00m\n\u001b[0;32m   (...)\u001b[0m\n\u001b[1;32m     11\u001b[0m \u001b[38;5;66;03m# b. Coordinates in data visualizations\u001b[39;00m\n\u001b[1;32m     12\u001b[0m \u001b[38;5;66;03m# c. Lightweight and faster than lists\u001b[39;00m\n",
      "\u001b[0;31mTypeError\u001b[0m: 'tuple' object does not support item assignment"
     ]
    }
   ],
   "source": [
    "# 2. Tuples – Ordered, Immutable, Allow Duplicates\n",
    "dimensions = (1920, 1080)\n",
    "dimensions[0] = 1280\n",
    "# Use Cases:\n",
    "# a. Fixed data that shouldn’t change (coordinates, config values)\n",
    "# b. Used as keys in dictionaries\n",
    "# c. Safer than lists when data is constant\n",
    "\n",
    "# In Data Engineering:\n",
    "# a. Holding column definitions or schema metadata\n",
    "# b. Coordinates in data visualizations\n",
    "# c. Lightweight and faster than lists"
   ]
  },
  {
   "cell_type": "code",
   "execution_count": 123,
   "id": "91267514-9d5a-4e2e-8900-29c8605134a2",
   "metadata": {},
   "outputs": [
    {
     "name": "stdout",
     "output_type": "stream",
     "text": [
      "{1, 2, 3, 4}\n"
     ]
    }
   ],
   "source": [
    "# 3. Sets – Unordered, Mutable, No Duplicates\n",
    "ids = set([1, 2, 2, 3])\n",
    "ids.add(4)\n",
    "print(ids)\n",
    "# Use Cases:\n",
    "# a. Removing duplicates\n",
    "# b. Membership checks (if x in set)\n",
    "# c. Set operations (union, intersection)\n",
    "\n",
    "#In Data Engineering:\n",
    "# a. Deduplicating user IDs or transactions\n",
    "# b. Comparing distinct values across datasets\n",
    "# c. Fast lookup tables for filtering"
   ]
  },
  {
   "cell_type": "code",
   "execution_count": 128,
   "id": "2727d501-11a3-449e-80a9-da89f6666b4e",
   "metadata": {},
   "outputs": [
    {
     "name": "stdout",
     "output_type": "stream",
     "text": [
      "{'name': 'Jane', 'age': 31}\n"
     ]
    }
   ],
   "source": [
    "# 4. Dictionaries – Key-Value Pairs, Mutable\n",
    "person = {'name': 'Alice', 'age': 30}\n",
    "person['age'] = 31\n",
    "person['name'] = \"Jane\"\n",
    "print(person)\n",
    "# Use Cases:\n",
    "# a. Mapping relationships (user → details)\n",
    "# b. Fast lookup by key\n",
    "# c. JSON-like structures\n",
    "\n",
    "# In Data Engineering:\n",
    "# a. JSON ingestion/parsing\n",
    "# b. API data mapping\n",
    "# c. Schema mapping (column name → data type)\n",
    "# d. Configuration files"
   ]
  },
  {
   "cell_type": "code",
   "execution_count": 129,
   "id": "589b97ce-6ba1-452a-85c6-c7d133748a2a",
   "metadata": {},
   "outputs": [],
   "source": [
    "# Task 4 Python loops, especially for and while loops, with practical examples, including how to use break and continue. "
   ]
  },
  {
   "cell_type": "code",
   "execution_count": 130,
   "id": "6d5e16b2-9fcd-44f4-adfc-ea68c022e52a",
   "metadata": {},
   "outputs": [
    {
     "name": "stdout",
     "output_type": "stream",
     "text": [
      "apple\n",
      "banana\n",
      "cherry\n"
     ]
    }
   ],
   "source": [
    "# 1.  For Loop Recap\n",
    "fruits = [\"apple\", \"banana\", \"cherry\"]\n",
    "\n",
    "for fruit in fruits:\n",
    "    print(fruit)"
   ]
  },
  {
   "cell_type": "code",
   "execution_count": 131,
   "id": "e8b8ed87-7480-4112-b5b9-57a916d31c9a",
   "metadata": {},
   "outputs": [
    {
     "name": "stdout",
     "output_type": "stream",
     "text": [
      "3\n",
      "5\n",
      "7\n",
      "9\n"
     ]
    }
   ],
   "source": [
    "# 2. Looping with range(start, stop, step)\n",
    "for x in range(3, 10, 2):\n",
    "    print(x)  # Outputs: 3, 5, 7, 9\n",
    "# Where Start = 3, Stop = 10 (not included), and Step = 2 (increments by 2)"
   ]
  },
  {
   "cell_type": "code",
   "execution_count": 133,
   "id": "c12c1f43-0f53-476d-bc64-653b5e53bfa3",
   "metadata": {},
   "outputs": [
    {
     "name": "stdout",
     "output_type": "stream",
     "text": [
      "apple\n"
     ]
    }
   ],
   "source": [
    "# 3a. break and continue\n",
    "for fruit in fruits:\n",
    "    if fruit == \"banana\":\n",
    "        break\n",
    "    print(fruit) # (stops at banana)"
   ]
  },
  {
   "cell_type": "code",
   "execution_count": 134,
   "id": "199c2b64-f969-4a9f-a459-8fa12c080681",
   "metadata": {},
   "outputs": [
    {
     "name": "stdout",
     "output_type": "stream",
     "text": [
      "apple\n",
      "cherry\n"
     ]
    }
   ],
   "source": [
    "for fruit in fruits:\n",
    "    if fruit == \"banana\":\n",
    "        continue\n",
    "    print(fruit) # (skips banana)"
   ]
  },
  {
   "cell_type": "code",
   "execution_count": 135,
   "id": "d2927fb3-335a-42be-bbdf-063cc677bc39",
   "metadata": {},
   "outputs": [
    {
     "name": "stdout",
     "output_type": "stream",
     "text": [
      "Count is: 0\n",
      "Count is: 1\n",
      "Count is: 2\n",
      "Count is: 3\n",
      "Count is: 4\n"
     ]
    }
   ],
   "source": [
    "# 4. While Loop\n",
    "count = 0\n",
    "while count < 5:\n",
    "    print(\"Count is:\", count)\n",
    "    count += 1"
   ]
  },
  {
   "cell_type": "code",
   "execution_count": null,
   "id": "163dee08-d01a-4103-811d-e145bec92b9e",
   "metadata": {},
   "outputs": [],
   "source": []
  }
 ],
 "metadata": {
  "kernelspec": {
   "display_name": "Python 3 (ipykernel)",
   "language": "python",
   "name": "python3"
  },
  "language_info": {
   "codemirror_mode": {
    "name": "ipython",
    "version": 3
   },
   "file_extension": ".py",
   "mimetype": "text/x-python",
   "name": "python",
   "nbconvert_exporter": "python",
   "pygments_lexer": "ipython3",
   "version": "3.11.6"
  }
 },
 "nbformat": 4,
 "nbformat_minor": 5
}
